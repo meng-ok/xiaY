{
 "cells": [
  {
   "cell_type": "markdown",
   "metadata": {},
   "source": [
    "# 文本分类-情感分析\n",
    "\n"
   ]
  },
  {
   "cell_type": "code",
   "execution_count": 1,
   "metadata": {},
   "outputs": [],
   "source": [
    "from matplotlib import pyplot as plt\n",
    "import jieba # 分词\n",
    "import re # 正则\n",
    "from sklearn.feature_extraction.text import TfidfVectorizer\n",
    "import numpy as np\n",
    "\n"
   ]
  },
  {
   "cell_type": "code",
   "execution_count": 8,
   "metadata": {},
   "outputs": [],
   "source": [
    "def read_data(path, is_pos=None):\n",
    "    \"\"\"\n",
    "    给定文件的路径，读取文件\n",
    "    path: path to the data\n",
    "    is_pos: 是否数据是postive samples. \n",
    "    return: (list of review texts, list of labels) \n",
    "    \"\"\"\n",
    "    reviews, labels  = [], []\n",
    "    with open(path, 'r') as file:\n",
    "        review_start  = False\n",
    "        review_text = []\n",
    "        for line in file:\n",
    "            line = line.strip()\n",
    "            if not line: continue\n",
    "            if not review_start and line.startswith(\"<review\"):\n",
    "                review_start = True\n",
    "                if \"label\" in line:\n",
    "                    labels.append(int(line.split('\"')[-2]))\n",
    "                continue                \n",
    "            if review_start and line == \"</review>\":\n",
    "                review_start = False\n",
    "                reviews.append(\" \".join(review_text))\n",
    "                review_text = []\n",
    "                continue\n",
    "            if review_start:\n",
    "                review_text.append(line)\n",
    "    if is_pos:\n",
    "        labels = [1]*len(reviews)\n",
    "    elif not is_pos is None:\n",
    "        labels = [0]*len(reviews)\n",
    "    return reviews, labels\n",
    "\n",
    "\n",
    "def process_file():\n",
    "    \"\"\"\n",
    "    读取训练数据和测试数据，并对它们做一些预处理\n",
    "    \"\"\"    \n",
    "    train_pos_file = \"data_sentiment/train.positive.txt\"\n",
    "    train_neg_file = \"data_sentiment/train.negative.txt\"\n",
    "    test_comb_file = \"data_sentiment/test.combined.txt\"\n",
    "    \n",
    "    # 读取文件部分，把具体的内容写入到变量里面\n",
    "    train_pos_cmts, train_pos_lbs = read_data(train_pos_file, True)\n",
    "    train_neg_cmts, train_neg_lbs = read_data(train_neg_file, False)\n",
    "    train_comments = train_pos_cmts + train_neg_cmts\n",
    "    train_labels = train_pos_lbs + train_neg_lbs\n",
    "    test_comments, test_labels = read_data(test_comb_file)\n",
    "    return train_comments, train_labels, test_comments, test_labels\n",
    "train_comments, train_labels, test_comments, test_labels = process_file()"
   ]
  },
  {
   "cell_type": "code",
   "execution_count": 9,
   "metadata": {},
   "outputs": [
    {
     "name": "stdout",
     "output_type": "stream",
     "text": [
      "8064 2500\n",
      "手感超好，而且黑色相比白色在转得时候不容易眼花，找童年的记忆啦。 1\n"
     ]
    }
   ],
   "source": [
    "#训练数据和测试数据大小\n",
    "print(len(train_comments),len(test_comments))\n",
    "print(train_comments[1],train_labels[1])"
   ]
  },
  {
   "cell_type": "code",
   "execution_count": 11,
   "metadata": {},
   "outputs": [],
   "source": [
    "def load_stopwords(path):\n",
    "    \"\"\"\n",
    "    从外部文件中导入停用词\n",
    "    \"\"\"\n",
    "    stopwords = set()\n",
    "    with open(path, 'r') as in_file:\n",
    "        for line in in_file:\n",
    "            stopwords.add(line.strip())\n",
    "    return stopwords\n",
    "\n",
    "\n",
    "def clean_non_chinese_symbols(text):\n",
    "    \"\"\"\n",
    "    处理非中文字符\n",
    "    \"\"\"\n",
    "    text = re.sub('[!！]+', \"!\", text)\n",
    "    text = re.sub('[?？]+', \"?\", text)\n",
    "    text = re.sub(\"[a-zA-Z#$%&\\'()*+,-./:;：<=>@，。★、…【】《》“”‘’[\\\\]^_`{|}~]+\", \" UNK \", text)\n",
    "    return re.sub(\"\\s+\", \" \", text)  \n",
    "\n",
    "def clean_numbers(text):\n",
    "    \"\"\"\n",
    "    处理数字符号  128  190  NUM \n",
    "    \"\"\"\n",
    "    return re.sub(\"\\d+\", ' NUM ', text)\n",
    "\n",
    "def preprocess_text(text, stopwords):\n",
    "    \"\"\"\n",
    "    文本的预处理过程\n",
    "    \"\"\"\n",
    "    text = clean_non_chinese_symbols(text)\n",
    "    text = clean_numbers(text)\n",
    "    text = \" \".join([term for term in jieba.cut(text) if term and not term in stopwords])\n",
    "    return text"
   ]
  },
  {
   "cell_type": "code",
   "execution_count": 12,
   "metadata": {},
   "outputs": [],
   "source": [
    "path_stopwords = \"./data_sentiment/stopwords.txt\"\n",
    "stopwords = load_stopwords(path_stopwords)"
   ]
  },
  {
   "cell_type": "code",
   "execution_count": 13,
   "metadata": {},
   "outputs": [
    {
     "name": "stderr",
     "output_type": "stream",
     "text": [
      "Building prefix dict from the default dictionary ...\n",
      "Dumping model to file cache /var/folders/fq/0c740bxn4cv9b75d33p_zb800000gn/T/jieba.cache\n",
      "Loading model cost 1.288 seconds.\n",
      "Prefix dict has been built succesfully.\n"
     ]
    },
    {
     "name": "stdout",
     "output_type": "stream",
     "text": [
      "手感 超好   UNK   黑色 相比 白色 转得 不 容易 眼花   UNK   找 童年 记忆   UNK   袁阔成 先生 当今 评书 界 泰斗   UNK   十二 金钱 镖 代表作\n"
     ]
    }
   ],
   "source": [
    "# 对于train_comments, test_comments进行字符串的处理，几个考虑的点：\n",
    "#   1. 停用词过滤\n",
    "#   2. 去掉特殊符号\n",
    "#   3. 去掉数字（比如价格..)\n",
    "#   需要注意的点是，由于评论数据本身很短，如果去掉的太多，很可能字符串长度变成0.\n",
    "train_comments_new = [preprocess_text(comment,stopwords)for comment in train_comments]\n",
    "test_comments_new = [preprocess_text(comment,stopwords)for comment in test_comments]\n",
    "print(train_comments_new[1],test_comments_new[2])"
   ]
  },
  {
   "cell_type": "code",
   "execution_count": 23,
   "metadata": {},
   "outputs": [
    {
     "name": "stdout",
     "output_type": "stream",
     "text": [
      "  (0, 5200)\t0.3012395527334206\n",
      "  (0, 15250)\t0.20661027286123507\n",
      "  (0, 11999)\t0.23051897504645855\n",
      "  (0, 18281)\t0.32722494951810027\n",
      "  (0, 8602)\t0.5013023568192346\n",
      "  (0, 9574)\t0.2219978911106752\n",
      "  (0, 20294)\t0.20211546467356176\n",
      "  (0, 18550)\t0.24678500238628445\n",
      "  (0, 1)\t0.047949259530463625\n",
      "  (0, 10618)\t0.3845315241159845\n",
      "  (0, 4011)\t0.30715504903861346\n",
      "  (0, 22983)\t0.24393297813553635\n",
      "  (1, 1)\t0.14922217841421276\n",
      "  (1, 10582)\t0.2842243363370056\n",
      "  (1, 20321)\t0.32579457084637553\n",
      "  (1, 23040)\t0.294164548754424\n",
      "  (1, 16216)\t0.29058894421029297\n",
      "  (1, 16002)\t0.2889070654128061\n",
      "  (1, 20540)\t0.3815109596433837\n",
      "  (1, 8122)\t0.23071460346703676\n",
      "  (1, 16422)\t0.3988982816378282\n",
      "  (1, 16937)\t0.28728866910276246\n",
      "  (1, 19500)\t0.30972681181022943\n",
      "  (3, 2279)\t0.6372913295541118\n",
      "  (3, 2873)\t0.7706229696000194\n",
      "  :\t:\n",
      "  (8062, 3091)\t0.41008521989983115\n",
      "  (8062, 1398)\t0.3359737607019133\n",
      "  (8062, 12774)\t0.35849538595302105\n",
      "  (8063, 1)\t0.16879153341921777\n",
      "  (8063, 3520)\t0.09382100806643663\n",
      "  (8063, 12790)\t0.134384777611518\n",
      "  (8063, 2711)\t0.1241778777018365\n",
      "  (8063, 1683)\t0.14753779982988685\n",
      "  (8063, 17116)\t0.16248219771064165\n",
      "  (8063, 140)\t0.1194798936235071\n",
      "  (8063, 21785)\t0.14956005878736336\n",
      "  (8063, 7474)\t0.18912690473682547\n",
      "  (8063, 8063)\t0.16533879644896776\n",
      "  (8063, 6341)\t0.15484051896390083\n",
      "  (8063, 2931)\t0.18020845449394193\n",
      "  (8063, 11612)\t0.19522204802082763\n",
      "  (8063, 7661)\t0.1989606733249955\n",
      "  (8063, 8250)\t0.17517256503713777\n",
      "  (8063, 15842)\t0.2157716117630093\n",
      "  (8063, 2637)\t0.20879444191316546\n",
      "  (8063, 452)\t0.4175888838263309\n",
      "  (8063, 13413)\t0.2157716117630093\n",
      "  (8063, 5363)\t0.22560538035117933\n",
      "  (8063, 6981)\t0.22560538035117933\n",
      "  (8063, 3940)\t0.45121076070235866\n"
     ]
    }
   ],
   "source": [
    "#利用tf-idf从文本中提取特征,转换成向量形式\n",
    "tfidf = TfidfVectorizer()\n",
    "x_train = tfidf.fit_transform(train_comments_new) #训练数据的特征\n",
    "y_train = train_labels #训练数据的标签\n",
    "x_test = tfidf.transform(test_comments_new)\n",
    "y_test = test_labels\n",
    "print(x_train)"
   ]
  },
  {
   "cell_type": "code",
   "execution_count": 26,
   "metadata": {},
   "outputs": [
    {
     "name": "stdout",
     "output_type": "stream",
     "text": [
      "accuracy on test data: 0.6368\n"
     ]
    }
   ],
   "source": [
    "#用贝叶斯模型训练数据\n",
    "from sklearn.naive_bayes import MultinomialNB\n",
    "from sklearn.metrics import accuracy_score\n",
    "\n",
    "\n",
    "clf = MultinomialNB()\n",
    "clf.fit(x_train,y_train)\n",
    "y_pred = clf.predict(x_test)\n",
    "print(\"accuracy on test data:\", accuracy_score(y_test, y_pred))"
   ]
  },
  {
   "cell_type": "code",
   "execution_count": 29,
   "metadata": {},
   "outputs": [
    {
     "name": "stdout",
     "output_type": "stream",
     "text": [
      "accuracy on test data:  0.524\n"
     ]
    }
   ],
   "source": [
    "from sklearn.neighbors import KNeighborsClassifier\n",
    "clf = KNeighborsClassifier(n_neighbors=1)\n",
    "clf.fit(x_train, y_train)\n",
    "y_pred = clf.predict(x_test)\n",
    "print(\"accuracy on test data: \", accuracy_score(y_test, y_pred))"
   ]
  },
  {
   "cell_type": "code",
   "execution_count": null,
   "metadata": {},
   "outputs": [],
   "source": [
    "from sklearn.preprocessing import StandardScaler\n",
    "from sklearn.neighbors import KNeighborsRegressor\n",
    "\n",
    "normalizer = StandardScaler()  # data is no longer sparse\n",
    "x_train_normalized = normalizer.fit_transform(x_train.toarray())\n",
    "x_test_normalized = normalizer.transform(x_test.toarray())\n",
    "\n",
    "knn = KNeighborsRegressor(n_neighbors=3)\n",
    "knn.fit(x_train_normalized, y_train)\n",
    "\n",
    "#Now we can predict prices:\n",
    "y_pred = knn.predict(x_test_normalized)\n",
    "print(\"accuracy on test data: \", accuracy_score(y_test, y_pred))"
   ]
  },
  {
   "cell_type": "code",
   "execution_count": null,
   "metadata": {},
   "outputs": [],
   "source": [
    "from sklearn.linear_model import LogisticRegression\n",
    "\n",
    "clf = LogisticRegression(solver='liblinear')\n",
    "clf.fit(x_train, y_train)\n",
    "y_pred = clf.predict(x_test)\n",
    "print(\"accuracy on test data: \", accuracy_score(y_test, y_pred))"
   ]
  },
  {
   "cell_type": "code",
   "execution_count": null,
   "metadata": {},
   "outputs": [],
   "source": []
  }
 ],
 "metadata": {
  "kernelspec": {
   "display_name": "Python 3",
   "language": "python",
   "name": "python3"
  },
  "language_info": {
   "codemirror_mode": {
    "name": "ipython",
    "version": 3
   },
   "file_extension": ".py",
   "mimetype": "text/x-python",
   "name": "python",
   "nbconvert_exporter": "python",
   "pygments_lexer": "ipython3",
   "version": "3.7.3"
  }
 },
 "nbformat": 4,
 "nbformat_minor": 2
}
